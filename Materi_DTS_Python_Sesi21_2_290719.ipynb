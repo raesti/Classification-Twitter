{
  "nbformat": 4,
  "nbformat_minor": 0,
  "metadata": {
    "colab": {
      "name": "Materi_DTS_Python_Sesi21_2_290719",
      "version": "0.3.2",
      "provenance": [],
      "collapsed_sections": [],
      "include_colab_link": true
    },
    "kernelspec": {
      "name": "python3",
      "display_name": "Python 3"
    },
    "accelerator": "GPU"
  },
  "cells": [
    {
      "cell_type": "markdown",
      "metadata": {
        "id": "view-in-github",
        "colab_type": "text"
      },
      "source": [
        "<a href=\"https://colab.research.google.com/github/raesti/Classification-Twitter/blob/master/Materi_DTS_Python_Sesi21_2_290719.ipynb\" target=\"_parent\"><img src=\"https://colab.research.google.com/assets/colab-badge.svg\" alt=\"Open In Colab\"/></a>"
      ]
    },
    {
      "cell_type": "code",
      "metadata": {
        "id": "TBK8jGVw_DrO",
        "colab_type": "code",
        "outputId": "8cdda641-3347-4440-c7c7-ecc9301dfb14",
        "colab": {
          "base_uri": "https://localhost:8080/",
          "height": 54
        }
      },
      "source": [
        "#Kelas A4_Resti Febriana\n",
        "!pip install numpy==1.16.1\n",
        "import tensorflow as t\n",
        "import numpy as np\n",
        "\n",
        "from keras.utils import np_utils\n",
        "from keras.models import Sequential\n",
        "from keras.layers import Embedding, SimpleRNN, LSTM, RNN, Dropout, Flatten\n",
        "from keras.layers import Dense\n",
        "from keras.datasets import reuters\n",
        "from keras.preprocessing import sequence"
      ],
      "execution_count": 1,
      "outputs": [
        {
          "output_type": "stream",
          "text": [
            "Requirement already satisfied: numpy==1.16.1 in /usr/local/lib/python3.6/dist-packages (1.16.1)\n"
          ],
          "name": "stdout"
        },
        {
          "output_type": "stream",
          "text": [
            "Using TensorFlow backend.\n"
          ],
          "name": "stderr"
        }
      ]
    },
    {
      "cell_type": "code",
      "metadata": {
        "id": "AhDJZwJLAW4S",
        "colab_type": "code",
        "colab": {
          "base_uri": "https://localhost:8080/",
          "height": 54
        },
        "outputId": "0ee27efc-6f16-43f6-9527-c34e1cb9fa44"
      },
      "source": [
        "max_features = 10000 #number of words to consider as features\n",
        "maxlen = 500\n",
        "batch_size = 128\n",
        "\n",
        "(input_train, y_train),(input_test, y_test) = reuters.load_data(num_words = max_features)\n",
        "\n",
        "input_train = sequence.pad_sequences (input_train, maxlen = maxlen)\n",
        "input_test = sequence.pad_sequences (input_test, maxlen = maxlen)\n",
        "y_train = np_utils.to_categorical(y_train, 46)\n",
        "y_test = np_utils.to_categorical(y_test, 46)"
      ],
      "execution_count": 2,
      "outputs": [
        {
          "output_type": "stream",
          "text": [
            "Downloading data from https://s3.amazonaws.com/text-datasets/reuters.npz\n",
            "2113536/2110848 [==============================] - 0s 0us/step\n"
          ],
          "name": "stdout"
        }
      ]
    },
    {
      "cell_type": "code",
      "metadata": {
        "id": "3lT6ebrHDy4B",
        "colab_type": "code",
        "outputId": "ae15664f-5ec3-42df-aafa-97eb21c9fcb5",
        "colab": {
          "base_uri": "https://localhost:8080/",
          "height": 255
        }
      },
      "source": [
        "model = Sequential()\n",
        "#max_features = 10000\n",
        "\n",
        "model.add(Embedding(max_features, 64))\n",
        "\n",
        "model.add(SimpleRNN(64, return_sequences = True))\n",
        "\n",
        "model.add(Dropout(rate = 0.2))\n",
        "model.add(SimpleRNN(64, return_sequences = True))\n",
        "\n",
        "model.add(LSTM(46, activation = 'sigmoid'))\n",
        "\n",
        "\n",
        "model.add(Dense(46, activation = 'relu'))"
      ],
      "execution_count": 3,
      "outputs": [
        {
          "output_type": "stream",
          "text": [
            "WARNING: Logging before flag parsing goes to stderr.\n",
            "W0730 03:49:27.088260 140261542061952 deprecation_wrapper.py:119] From /usr/local/lib/python3.6/dist-packages/keras/backend/tensorflow_backend.py:74: The name tf.get_default_graph is deprecated. Please use tf.compat.v1.get_default_graph instead.\n",
            "\n",
            "W0730 03:49:27.134110 140261542061952 deprecation_wrapper.py:119] From /usr/local/lib/python3.6/dist-packages/keras/backend/tensorflow_backend.py:517: The name tf.placeholder is deprecated. Please use tf.compat.v1.placeholder instead.\n",
            "\n",
            "W0730 03:49:27.145061 140261542061952 deprecation_wrapper.py:119] From /usr/local/lib/python3.6/dist-packages/keras/backend/tensorflow_backend.py:4138: The name tf.random_uniform is deprecated. Please use tf.random.uniform instead.\n",
            "\n",
            "W0730 03:49:27.289745 140261542061952 deprecation_wrapper.py:119] From /usr/local/lib/python3.6/dist-packages/keras/backend/tensorflow_backend.py:133: The name tf.placeholder_with_default is deprecated. Please use tf.compat.v1.placeholder_with_default instead.\n",
            "\n",
            "W0730 03:49:27.306690 140261542061952 deprecation.py:506] From /usr/local/lib/python3.6/dist-packages/keras/backend/tensorflow_backend.py:3445: calling dropout (from tensorflow.python.ops.nn_ops) with keep_prob is deprecated and will be removed in a future version.\n",
            "Instructions for updating:\n",
            "Please use `rate` instead of `keep_prob`. Rate should be set to `rate = 1 - keep_prob`.\n"
          ],
          "name": "stderr"
        }
      ]
    },
    {
      "cell_type": "code",
      "metadata": {
        "id": "UGBEFXr6EQez",
        "colab_type": "code",
        "outputId": "27dd3f04-4557-4297-9c0a-5ad13f180d60",
        "colab": {
          "base_uri": "https://localhost:8080/",
          "height": 110
        }
      },
      "source": [
        "model.compile(optimizer = 'rmsprop',\n",
        "             loss = 'categorical_crossentropy',\n",
        "             metrics = ['acc'])"
      ],
      "execution_count": 4,
      "outputs": [
        {
          "output_type": "stream",
          "text": [
            "W0730 03:49:27.705398 140261542061952 deprecation_wrapper.py:119] From /usr/local/lib/python3.6/dist-packages/keras/optimizers.py:790: The name tf.train.Optimizer is deprecated. Please use tf.compat.v1.train.Optimizer instead.\n",
            "\n",
            "W0730 03:49:27.746817 140261542061952 deprecation_wrapper.py:119] From /usr/local/lib/python3.6/dist-packages/keras/backend/tensorflow_backend.py:3295: The name tf.log is deprecated. Please use tf.math.log instead.\n",
            "\n"
          ],
          "name": "stderr"
        }
      ]
    },
    {
      "cell_type": "code",
      "metadata": {
        "id": "CEQPaFYgEvLe",
        "colab_type": "code",
        "outputId": "1feb6708-1ea5-4412-9ca4-038da9e3ab04",
        "colab": {
          "base_uri": "https://localhost:8080/",
          "height": 1000
        }
      },
      "source": [
        "model.fit(input_train,\n",
        "         y_train,\n",
        "         epochs = 30,\n",
        "         batch_size = 128,\n",
        "         validation_split = 0.3)"
      ],
      "execution_count": 5,
      "outputs": [
        {
          "output_type": "stream",
          "text": [
            "W0730 03:49:27.976188 140261542061952 deprecation.py:323] From /usr/local/lib/python3.6/dist-packages/tensorflow/python/ops/math_grad.py:1250: add_dispatch_support.<locals>.wrapper (from tensorflow.python.ops.array_ops) is deprecated and will be removed in a future version.\n",
            "Instructions for updating:\n",
            "Use tf.where in 2.0, which has the same broadcast rule as np.where\n"
          ],
          "name": "stderr"
        },
        {
          "output_type": "stream",
          "text": [
            "Train on 6287 samples, validate on 2695 samples\n",
            "Epoch 1/30\n",
            "6287/6287 [==============================] - 76s 12ms/step - loss: 4.5828 - acc: 0.3060 - val_loss: 4.3328 - val_acc: 0.3532\n",
            "Epoch 2/30\n",
            "6287/6287 [==============================] - 70s 11ms/step - loss: 4.5556 - acc: 0.3510 - val_loss: 4.3259 - val_acc: 0.3532\n",
            "Epoch 3/30\n",
            "6287/6287 [==============================] - 70s 11ms/step - loss: 4.3098 - acc: 0.3733 - val_loss: 4.8009 - val_acc: 0.4045\n",
            "Epoch 4/30\n",
            "6287/6287 [==============================] - 70s 11ms/step - loss: 4.3549 - acc: 0.4188 - val_loss: 4.2315 - val_acc: 0.4245\n",
            "Epoch 5/30\n",
            "6287/6287 [==============================] - 70s 11ms/step - loss: 4.0439 - acc: 0.4872 - val_loss: 4.3865 - val_acc: 0.4104\n",
            "Epoch 6/30\n",
            "6287/6287 [==============================] - 70s 11ms/step - loss: 3.9330 - acc: 0.5406 - val_loss: 4.0865 - val_acc: 0.5213\n",
            "Epoch 7/30\n",
            "6287/6287 [==============================] - 70s 11ms/step - loss: 3.8469 - acc: 0.5839 - val_loss: 4.6978 - val_acc: 0.5280\n",
            "Epoch 8/30\n",
            "6287/6287 [==============================] - 70s 11ms/step - loss: 3.8389 - acc: 0.6413 - val_loss: 6.0551 - val_acc: 0.5080\n",
            "Epoch 9/30\n",
            "6287/6287 [==============================] - 71s 11ms/step - loss: 3.7597 - acc: 0.6544 - val_loss: 5.9862 - val_acc: 0.4631\n",
            "Epoch 10/30\n",
            "6287/6287 [==============================] - 70s 11ms/step - loss: 3.7766 - acc: 0.6359 - val_loss: 5.5063 - val_acc: 0.4965\n",
            "Epoch 11/30\n",
            "6287/6287 [==============================] - 70s 11ms/step - loss: 3.5918 - acc: 0.6999 - val_loss: 6.0665 - val_acc: 0.5258\n",
            "Epoch 12/30\n",
            "6287/6287 [==============================] - 70s 11ms/step - loss: 3.1054 - acc: 0.7345 - val_loss: 5.2668 - val_acc: 0.3592\n",
            "Epoch 13/30\n",
            "6287/6287 [==============================] - 70s 11ms/step - loss: 2.8596 - acc: 0.6712 - val_loss: 6.6724 - val_acc: 0.4913\n",
            "Epoch 14/30\n",
            "6287/6287 [==============================] - 70s 11ms/step - loss: 3.3669 - acc: 0.7116 - val_loss: 7.1957 - val_acc: 0.4549\n",
            "Epoch 15/30\n",
            "6287/6287 [==============================] - 70s 11ms/step - loss: 3.0795 - acc: 0.7422 - val_loss: 4.0973 - val_acc: 0.4946\n",
            "Epoch 16/30\n",
            "6287/6287 [==============================] - 70s 11ms/step - loss: 2.2032 - acc: 0.7205 - val_loss: 5.3950 - val_acc: 0.5265\n",
            "Epoch 17/30\n",
            "6287/6287 [==============================] - 70s 11ms/step - loss: 2.9152 - acc: 0.7358 - val_loss: 5.2684 - val_acc: 0.5113\n",
            "Epoch 18/30\n",
            "6287/6287 [==============================] - 71s 11ms/step - loss: 3.4957 - acc: 0.6795 - val_loss: 6.0884 - val_acc: 0.5276\n",
            "Epoch 19/30\n",
            "6287/6287 [==============================] - 71s 11ms/step - loss: 3.4566 - acc: 0.7188 - val_loss: 5.4702 - val_acc: 0.5158\n",
            "Epoch 20/30\n",
            "6287/6287 [==============================] - 70s 11ms/step - loss: 1.9589 - acc: 0.7485 - val_loss: 3.3240 - val_acc: 0.4208\n",
            "Epoch 21/30\n",
            "6287/6287 [==============================] - 70s 11ms/step - loss: 2.9363 - acc: 0.7293 - val_loss: 6.2675 - val_acc: 0.4545\n",
            "Epoch 22/30\n",
            "6287/6287 [==============================] - 71s 11ms/step - loss: 2.9614 - acc: 0.7259 - val_loss: 2.7895 - val_acc: 0.4891\n",
            "Epoch 23/30\n",
            "6287/6287 [==============================] - 70s 11ms/step - loss: 2.7733 - acc: 0.6972 - val_loss: 5.9196 - val_acc: 0.5065\n",
            "Epoch 24/30\n",
            "6287/6287 [==============================] - 70s 11ms/step - loss: 2.8465 - acc: 0.7468 - val_loss: 5.6877 - val_acc: 0.5288\n",
            "Epoch 25/30\n",
            "6287/6287 [==============================] - 70s 11ms/step - loss: 3.4843 - acc: 0.7280 - val_loss: 6.3355 - val_acc: 0.5273\n",
            "Epoch 26/30\n",
            "6287/6287 [==============================] - 70s 11ms/step - loss: 3.3795 - acc: 0.7512 - val_loss: 6.3927 - val_acc: 0.4983\n",
            "Epoch 27/30\n",
            "6287/6287 [==============================] - 71s 11ms/step - loss: 3.3661 - acc: 0.7420 - val_loss: 6.5748 - val_acc: 0.5184\n",
            "Epoch 28/30\n",
            "6287/6287 [==============================] - 70s 11ms/step - loss: 3.2545 - acc: 0.7613 - val_loss: 5.9876 - val_acc: 0.5269\n",
            "Epoch 29/30\n",
            "6287/6287 [==============================] - 71s 11ms/step - loss: 3.1761 - acc: 0.7220 - val_loss: 5.8744 - val_acc: 0.5529\n",
            "Epoch 30/30\n",
            "6287/6287 [==============================] - 70s 11ms/step - loss: 3.7838 - acc: 0.7119 - val_loss: 6.0495 - val_acc: 0.5540\n"
          ],
          "name": "stdout"
        },
        {
          "output_type": "execute_result",
          "data": {
            "text/plain": [
              "<keras.callbacks.History at 0x7f90deb437f0>"
            ]
          },
          "metadata": {
            "tags": []
          },
          "execution_count": 5
        }
      ]
    }
  ]
}