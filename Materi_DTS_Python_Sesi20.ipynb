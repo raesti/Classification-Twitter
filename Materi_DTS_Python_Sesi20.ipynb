{
  "nbformat": 4,
  "nbformat_minor": 0,
  "metadata": {
    "colab": {
      "name": "Materi_DTS_Python_Sesi20",
      "version": "0.3.2",
      "provenance": [],
      "include_colab_link": true
    },
    "kernelspec": {
      "name": "python3",
      "display_name": "Python 3"
    },
    "accelerator": "GPU"
  },
  "cells": [
    {
      "cell_type": "markdown",
      "metadata": {
        "id": "view-in-github",
        "colab_type": "text"
      },
      "source": [
        "<a href=\"https://colab.research.google.com/github/raesti/Classification-Twitter/blob/master/Materi_DTS_Python_Sesi20.ipynb\" target=\"_parent\"><img src=\"https://colab.research.google.com/assets/colab-badge.svg\" alt=\"Open In Colab\"/></a>"
      ]
    },
    {
      "cell_type": "code",
      "metadata": {
        "id": "GqGX7vyaaf8W",
        "colab_type": "code",
        "colab": {
          "base_uri": "https://localhost:8080/",
          "height": 34
        },
        "outputId": "64a781f5-9d1b-405f-dcca-740ce67a31d0"
      },
      "source": [
        "#Kelas A4_Resti Febriana\n",
        "import tensorflow as tf\n",
        "import numpy as np\n",
        "from keras.layers import Conv2D, MaxPooling2D, Flatten, Dense, Activation\n",
        "from keras.models import Sequential #untuk network 1 cabang\n",
        "from keras.losses import sparse_categorical_crossentropy"
      ],
      "execution_count": 1,
      "outputs": [
        {
          "output_type": "stream",
          "text": [
            "Using TensorFlow backend.\n"
          ],
          "name": "stderr"
        }
      ]
    },
    {
      "cell_type": "code",
      "metadata": {
        "id": "Uo7OUoL2bpJ-",
        "colab_type": "code",
        "colab": {
          "base_uri": "https://localhost:8080/",
          "height": 156
        },
        "outputId": "01190355-5446-4f2b-cc29-75501e0e7183"
      },
      "source": [
        "#add CL\n",
        "model = Sequential()\n",
        "\n",
        "model.add(Conv2D(filters = 48,\n",
        "                kernel_size = (3, 3),\n",
        "                activation = 'relu',\n",
        "                input_shape = (32, 32, 3),\n",
        "                padding = 'same'))\n",
        "\n",
        "model.add(Conv2D(filters = 128,\n",
        "                kernel_size = (3, 3),\n",
        "                activation = 'relu',\n",
        "                padding = 'same'))\n",
        "\n",
        "model.add(Conv2D(filters = 200,\n",
        "                kernel_size = (3, 3),\n",
        "                activation = 'relu',\n",
        "                padding = 'same'))"
      ],
      "execution_count": 2,
      "outputs": [
        {
          "output_type": "stream",
          "text": [
            "WARNING: Logging before flag parsing goes to stderr.\n",
            "W0726 09:29:15.715014 140288707704704 deprecation_wrapper.py:119] From /usr/local/lib/python3.6/dist-packages/keras/backend/tensorflow_backend.py:74: The name tf.get_default_graph is deprecated. Please use tf.compat.v1.get_default_graph instead.\n",
            "\n",
            "W0726 09:29:15.735964 140288707704704 deprecation_wrapper.py:119] From /usr/local/lib/python3.6/dist-packages/keras/backend/tensorflow_backend.py:517: The name tf.placeholder is deprecated. Please use tf.compat.v1.placeholder instead.\n",
            "\n",
            "W0726 09:29:15.739669 140288707704704 deprecation_wrapper.py:119] From /usr/local/lib/python3.6/dist-packages/keras/backend/tensorflow_backend.py:4138: The name tf.random_uniform is deprecated. Please use tf.random.uniform instead.\n",
            "\n"
          ],
          "name": "stderr"
        }
      ]
    },
    {
      "cell_type": "code",
      "metadata": {
        "id": "_Kdzzdz2cYbe",
        "colab_type": "code",
        "colab": {
          "base_uri": "https://localhost:8080/",
          "height": 71
        },
        "outputId": "6369cd14-7534-44a9-c323-b618f26fa889"
      },
      "source": [
        "#pooling\n",
        "model.add(MaxPooling2D(pool_size = (3,3), strides = 1))"
      ],
      "execution_count": 3,
      "outputs": [
        {
          "output_type": "stream",
          "text": [
            "W0726 09:29:15.803117 140288707704704 deprecation_wrapper.py:119] From /usr/local/lib/python3.6/dist-packages/keras/backend/tensorflow_backend.py:3976: The name tf.nn.max_pool is deprecated. Please use tf.nn.max_pool2d instead.\n",
            "\n"
          ],
          "name": "stderr"
        }
      ]
    },
    {
      "cell_type": "code",
      "metadata": {
        "id": "z2X0O4mddbG5",
        "colab_type": "code",
        "colab": {}
      },
      "source": [
        "#fully connected layer \n",
        "model.add(Flatten())\n",
        "\n",
        "model.add(Dense(1024, activation ='relu'))"
      ],
      "execution_count": 0,
      "outputs": []
    },
    {
      "cell_type": "code",
      "metadata": {
        "id": "_BxyBtJ1dtz9",
        "colab_type": "code",
        "colab": {
          "base_uri": "https://localhost:8080/",
          "height": 105
        },
        "outputId": "89931a30-ba3a-4519-bb5c-6959debbe38f"
      },
      "source": [
        "#compile model\n",
        "model.compile(optimizer = tf.train.AdamOptimizer(),\n",
        "             loss = sparse_categorical_crossentropy,\n",
        "             metrics = ['accuracy'])"
      ],
      "execution_count": 5,
      "outputs": [
        {
          "output_type": "stream",
          "text": [
            "W0726 09:29:15.863891 140288707704704 deprecation_wrapper.py:119] From /usr/local/lib/python3.6/dist-packages/keras/optimizers.py:790: The name tf.train.Optimizer is deprecated. Please use tf.compat.v1.train.Optimizer instead.\n",
            "\n",
            "W0726 09:29:15.885258 140288707704704 deprecation_wrapper.py:119] From /usr/local/lib/python3.6/dist-packages/keras/backend/tensorflow_backend.py:3341: The name tf.log is deprecated. Please use tf.math.log instead.\n",
            "\n"
          ],
          "name": "stderr"
        }
      ]
    },
    {
      "cell_type": "code",
      "metadata": {
        "id": "rIH-JkBveqse",
        "colab_type": "code",
        "colab": {}
      },
      "source": [
        "cifar = tf.keras.datasets.cifar10\n",
        "\n",
        "(train_images, train_labels), (test_images, test_labels) = cifar.load_data()\n",
        "cifar_labels = ['airplane', 'automobile', 'bird', 'cat', 'deer', 'dog', 'frog', 'horse', 'ship', 'truck']\n",
        "\n",
        "train_labels = train_labels.squeeze()\n",
        "validation_images = train_images[-10000:, :, :]\n",
        "validation_labels = train_labels[-10000:]\n",
        "train_images = train_images[:-10000, :, :]\n",
        "train_labels = train_labels[:-10000]"
      ],
      "execution_count": 0,
      "outputs": []
    },
    {
      "cell_type": "code",
      "metadata": {
        "id": "IUf0Dw2CggQu",
        "colab_type": "code",
        "colab": {
          "base_uri": "https://localhost:8080/",
          "height": 309
        },
        "outputId": "5ff0d450-6648-4d6f-b1b7-8210be6acde1"
      },
      "source": [
        "model.fit(x = train_images,\n",
        "         y = train_labels,\n",
        "         batch_size = 100,\n",
        "         epochs = 10,\n",
        "         validation_data = (validation_images, validation_labels.astype(np.float32)))"
      ],
      "execution_count": 0,
      "outputs": [
        {
          "output_type": "stream",
          "text": [
            "W0726 09:29:16.302219 140288707704704 deprecation.py:323] From /usr/local/lib/python3.6/dist-packages/tensorflow/python/ops/math_grad.py:1250: add_dispatch_support.<locals>.wrapper (from tensorflow.python.ops.array_ops) is deprecated and will be removed in a future version.\n",
            "Instructions for updating:\n",
            "Use tf.where in 2.0, which has the same broadcast rule as np.where\n",
            "W0726 09:29:16.374553 140288707704704 deprecation_wrapper.py:119] From /usr/local/lib/python3.6/dist-packages/keras/backend/tensorflow_backend.py:986: The name tf.assign_add is deprecated. Please use tf.compat.v1.assign_add instead.\n",
            "\n"
          ],
          "name": "stderr"
        },
        {
          "output_type": "stream",
          "text": [
            "Train on 40000 samples, validate on 10000 samples\n",
            "Epoch 1/10\n",
            "40000/40000 [==============================] - 108s 3ms/step - loss: 17.8780 - acc: 0.1001 - val_loss: 17.3107 - val_acc: 0.0980\n",
            "Epoch 2/10\n",
            "40000/40000 [==============================] - 102s 3ms/step - loss: 17.1764 - acc: 0.1005 - val_loss: 17.1775 - val_acc: 0.0980\n",
            "Epoch 3/10\n",
            "40000/40000 [==============================] - 102s 3ms/step - loss: 17.1373 - acc: 0.1005 - val_loss: 17.1775 - val_acc: 0.0980\n",
            "Epoch 4/10\n",
            "40000/40000 [==============================] - 101s 3ms/step - loss: 17.1373 - acc: 0.1005 - val_loss: 17.1775 - val_acc: 0.0980\n",
            "Epoch 5/10\n",
            "39800/40000 [============================>.] - ETA: 0s - loss: 17.1388 - acc: 0.1004"
          ],
          "name": "stdout"
        }
      ]
    }
  ]
}